{
 "cells": [
  {
   "cell_type": "markdown",
   "id": "c78ae05b",
   "metadata": {},
   "source": [
    "# Exercise 1: Prime Numbers"
   ]
  },
  {
   "cell_type": "markdown",
   "id": "32eddd72",
   "metadata": {},
   "source": [
    "# Method1: using flag variable"
   ]
  },
  {
   "cell_type": "markdown",
   "id": "7c5f6eba",
   "metadata": {},
   "source": [
    "We have to write a Python program that checks whether a given number is prime or not. We know that the first prime number (n) is 2,therefore, we will write the main logic inside the condition if n>1. "
   ]
  },
  {
   "cell_type": "markdown",
   "id": "aa0d3f80",
   "metadata": {},
   "source": [
    "main logic: we know that prime number is only divisible by 1 and itself which means if we divide a number(n) by some other number(i) and if their remainder is 0 it means that number(n) is not a prime number else n will be a prime number. To implement this logic, for loop is used and to continously monitor the value of remainder, a flag variable is used. We are coding in such a way when remainder is 0 (i.e. when n is not a prime number)=> flag =1 else flag=0. When the status of number is confirmed, interpreter should immediately exit from the for loop which is done by break keyword. \n"
   ]
  },
  {
   "cell_type": "code",
   "execution_count": 1,
   "id": "885e17c9",
   "metadata": {},
   "outputs": [
    {
     "name": "stdout",
     "output_type": "stream",
     "text": [
      "enter a number:7\n",
      "7 is a prime number\n"
     ]
    }
   ],
   "source": [
    "n=int(input(\"enter a number:\"))  # take input from the user\n",
    "flag=0    #define a flag variable and assign initial value as 0\n",
    "\n",
    "if n==1:   # 1 is not a prime number\n",
    "    print(n,\"is not a prime number\")\n",
    "elif n>1:   #prime numbers start with 2\n",
    "    for i in range(2,n):   # for loop in which i= 2,3,4,.....,n-1\n",
    "        if(n%i)==0:  # % is a modulus operator which gives the remainder when n is divided by i\n",
    "            flag=1  # flag set to 1\n",
    "            break   # to come out of the for loop\n",
    "\n",
    "    if flag==1:   # comparing flag values\n",
    "        print(n,\"is not a prime number\")\n",
    "    else:\n",
    "        print(n,\"is a prime number\")"
   ]
  },
  {
   "cell_type": "markdown",
   "id": "e956fdd3",
   "metadata": {},
   "source": [
    "# Method2: using function"
   ]
  },
  {
   "cell_type": "markdown",
   "id": "fde0e258",
   "metadata": {},
   "source": [
    "we can also check whether a given number is prime or not using function. We have defined a prime function keeping the remainder logic as it is. Here, in place of flag variable, we are using return keyword. We are coding in such a way \n",
    "if number is prime => return True else => return False. After the execution of return statement, the Interpreter will come out of the function definition and go to the code line where the function is called. "
   ]
  },
  {
   "cell_type": "code",
   "execution_count": 2,
   "id": "b18f4c48",
   "metadata": {},
   "outputs": [
    {
     "name": "stdout",
     "output_type": "stream",
     "text": [
      "enter a number:11\n",
      "11 is a prime number\n"
     ]
    }
   ],
   "source": [
    "def prime(n):   #define prime function using def keyword and parameter n is passed into the function\n",
    "    if n<=1:    # 0 and 1 are not prime numbers,so, return False\n",
    "        return False\n",
    "    for i in range(2,n):  # for loop with i=2,3,4,....,n-1\n",
    "        if(n%i)==0:   # if remainder is 0 which means n is divisble by i i.e. n is not a prime number, so, return False\n",
    "            return False\n",
    "    return True    # else remainder is not 0 which means n is a prime number,so, return True\n",
    "\n",
    "# function call (to test the prime function)\n",
    "num=int(input(\"enter a number:\")) # take input from the user \n",
    "if prime(num):  #function call and argument num is passed (during function call, value of num will be copied into the n)\n",
    "    print(num,\"is a prime number\") # it will execute for return True\n",
    "else:\n",
    "    print(num,\"is not a prime number \")  # it will execute for return False"
   ]
  },
  {
   "cell_type": "markdown",
   "id": "7a70a81d",
   "metadata": {},
   "source": [
    "# Method3: using inbuilt function isprime"
   ]
  },
  {
   "cell_type": "markdown",
   "id": "6eee7511",
   "metadata": {},
   "source": [
    "We can directly use isprime function which is available inside sympy library."
   ]
  },
  {
   "cell_type": "code",
   "execution_count": 3,
   "id": "996ef29f",
   "metadata": {},
   "outputs": [
    {
     "name": "stdout",
     "output_type": "stream",
     "text": [
      "Requirement already satisfied: sympy in c:\\users\\nitin\\anaconda3\\lib\\site-packages (1.10.1)\n",
      "Requirement already satisfied: mpmath>=0.19 in c:\\users\\nitin\\anaconda3\\lib\\site-packages (from sympy) (1.2.1)\n"
     ]
    }
   ],
   "source": [
    "! pip install sympy"
   ]
  },
  {
   "cell_type": "code",
   "execution_count": 4,
   "id": "91e5d258",
   "metadata": {},
   "outputs": [
    {
     "name": "stdout",
     "output_type": "stream",
     "text": [
      "enter a number4\n",
      "4 is not a prime number\n"
     ]
    }
   ],
   "source": [
    "from sympy import isprime # import isprime function from sympy library\n",
    "num = int(input(\"enter a number\")) #input from the user\n",
    "if isprime(num):       #pass num as a parameter inside isprime function\n",
    "    print(num, \"is a prime number\")  #it will execute if number is prime\n",
    "else:\n",
    "    print(num, \"is not a prime number\")  #it will execute if number is not prime"
   ]
  },
  {
   "cell_type": "markdown",
   "id": "731a15e2",
   "metadata": {},
   "source": [
    "# Exercise 2: Product of Random Numbers"
   ]
  },
  {
   "cell_type": "markdown",
   "id": "92b7372d",
   "metadata": {},
   "source": [
    "Random numbers can be generated using randint function. This function is available in sublibrary random which is available inside numpy library. We have to generate two random numbers. "
   ]
  },
  {
   "cell_type": "markdown",
   "id": "70fa2427",
   "metadata": {},
   "source": [
    "Syntax: randint(inclusive,exclusive,how many numbers)"
   ]
  },
  {
   "cell_type": "code",
   "execution_count": 5,
   "id": "0af9d91c",
   "metadata": {},
   "outputs": [
    {
     "name": "stdout",
     "output_type": "stream",
     "text": [
      "[18 40]\n"
     ]
    }
   ],
   "source": [
    "import numpy as np #import numpy lib. using it's short form np\n",
    "x=np.random.randint(10,50,2) # randint func generates any two random numbers from 10 to 49 and save in variable x\n",
    "print(x)"
   ]
  },
  {
   "cell_type": "code",
   "execution_count": 6,
   "id": "8f7b7332",
   "metadata": {},
   "outputs": [
    {
     "data": {
      "text/plain": [
       "18"
      ]
     },
     "execution_count": 6,
     "metadata": {},
     "output_type": "execute_result"
    }
   ],
   "source": [
    "x[0]"
   ]
  },
  {
   "cell_type": "code",
   "execution_count": 7,
   "id": "02edbb4d",
   "metadata": {},
   "outputs": [
    {
     "data": {
      "text/plain": [
       "40"
      ]
     },
     "execution_count": 7,
     "metadata": {},
     "output_type": "execute_result"
    }
   ],
   "source": [
    "x[1]"
   ]
  },
  {
   "cell_type": "code",
   "execution_count": 8,
   "id": "ad84dd68",
   "metadata": {},
   "outputs": [
    {
     "name": "stdout",
     "output_type": "stream",
     "text": [
      "Enter the product of numbers:720\n"
     ]
    }
   ],
   "source": [
    "y = int(input(\"Enter the product of numbers:\")) #take input from the user and product is calculated by the user"
   ]
  },
  {
   "cell_type": "code",
   "execution_count": 9,
   "id": "e1cb5c24",
   "metadata": {},
   "outputs": [
    {
     "data": {
      "text/plain": [
       "720"
      ]
     },
     "execution_count": 9,
     "metadata": {},
     "output_type": "execute_result"
    }
   ],
   "source": [
    "y"
   ]
  },
  {
   "cell_type": "code",
   "execution_count": 10,
   "id": "124e90f1",
   "metadata": {},
   "outputs": [
    {
     "name": "stdout",
     "output_type": "stream",
     "text": [
      "720\n"
     ]
    }
   ],
   "source": [
    "z = x[0]*x[1] # product of 2 random numbers saved in variable z\n",
    "print(z)"
   ]
  },
  {
   "cell_type": "code",
   "execution_count": 11,
   "id": "3ea7cb82",
   "metadata": {},
   "outputs": [
    {
     "name": "stdout",
     "output_type": "stream",
     "text": [
      "correct result\n"
     ]
    }
   ],
   "source": [
    "if z==y:  #it checks if the user's answer is correct or not \n",
    "    print(\"correct result\")  #this message will be displayed if user's answer is correct\n",
    "else:\n",
    "    print(\"incorrect result\") #this message will be displayed if user's answer is incorrect"
   ]
  },
  {
   "cell_type": "markdown",
   "id": "db76260a",
   "metadata": {},
   "source": [
    "# Exercise 3: Squares of Even/Odd Numbers"
   ]
  },
  {
   "cell_type": "markdown",
   "id": "a648fb2a",
   "metadata": {},
   "source": [
    "Write a Python program to print the squares of all even or odd numbers within the range of 100 to 200. Let's print the squares of all even numbers."
   ]
  },
  {
   "cell_type": "markdown",
   "id": "c8dc3fec",
   "metadata": {},
   "source": [
    "# Method1"
   ]
  },
  {
   "cell_type": "code",
   "execution_count": 12,
   "id": "da91e028",
   "metadata": {},
   "outputs": [
    {
     "name": "stdout",
     "output_type": "stream",
     "text": [
      "100 x 100 = 10000\n",
      "102 x 102 = 10404\n",
      "104 x 104 = 10816\n",
      "106 x 106 = 11236\n",
      "108 x 108 = 11664\n",
      "110 x 110 = 12100\n",
      "112 x 112 = 12544\n",
      "114 x 114 = 12996\n",
      "116 x 116 = 13456\n",
      "118 x 118 = 13924\n",
      "120 x 120 = 14400\n",
      "122 x 122 = 14884\n",
      "124 x 124 = 15376\n",
      "126 x 126 = 15876\n",
      "128 x 128 = 16384\n",
      "130 x 130 = 16900\n",
      "132 x 132 = 17424\n",
      "134 x 134 = 17956\n",
      "136 x 136 = 18496\n",
      "138 x 138 = 19044\n",
      "140 x 140 = 19600\n",
      "142 x 142 = 20164\n",
      "144 x 144 = 20736\n",
      "146 x 146 = 21316\n",
      "148 x 148 = 21904\n",
      "150 x 150 = 22500\n",
      "152 x 152 = 23104\n",
      "154 x 154 = 23716\n",
      "156 x 156 = 24336\n",
      "158 x 158 = 24964\n",
      "160 x 160 = 25600\n",
      "162 x 162 = 26244\n",
      "164 x 164 = 26896\n",
      "166 x 166 = 27556\n",
      "168 x 168 = 28224\n",
      "170 x 170 = 28900\n",
      "172 x 172 = 29584\n",
      "174 x 174 = 30276\n",
      "176 x 176 = 30976\n",
      "178 x 178 = 31684\n",
      "180 x 180 = 32400\n",
      "182 x 182 = 33124\n",
      "184 x 184 = 33856\n",
      "186 x 186 = 34596\n",
      "188 x 188 = 35344\n",
      "190 x 190 = 36100\n",
      "192 x 192 = 36864\n",
      "194 x 194 = 37636\n",
      "196 x 196 = 38416\n",
      "198 x 198 = 39204\n",
      "200 x 200 = 40000\n"
     ]
    }
   ],
   "source": [
    "for n in range(100,201):  # n = 100,101,102,103,.......,200\n",
    "    if (n%2)==0:          # since n is divisible by 2 which means n is an even number\n",
    "        print(n,'x',n,'=',n*n)    #display squares of all even numbers from 100 to 200"
   ]
  },
  {
   "cell_type": "markdown",
   "id": "6c285be3",
   "metadata": {},
   "source": [
    "# Method2"
   ]
  },
  {
   "cell_type": "code",
   "execution_count": 13,
   "id": "8a04eb24",
   "metadata": {},
   "outputs": [
    {
     "name": "stdout",
     "output_type": "stream",
     "text": [
      "100 x 100 = 10000\n",
      "102 x 102 = 10404\n",
      "104 x 104 = 10816\n",
      "106 x 106 = 11236\n",
      "108 x 108 = 11664\n",
      "110 x 110 = 12100\n",
      "112 x 112 = 12544\n",
      "114 x 114 = 12996\n",
      "116 x 116 = 13456\n",
      "118 x 118 = 13924\n",
      "120 x 120 = 14400\n",
      "122 x 122 = 14884\n",
      "124 x 124 = 15376\n",
      "126 x 126 = 15876\n",
      "128 x 128 = 16384\n",
      "130 x 130 = 16900\n",
      "132 x 132 = 17424\n",
      "134 x 134 = 17956\n",
      "136 x 136 = 18496\n",
      "138 x 138 = 19044\n",
      "140 x 140 = 19600\n",
      "142 x 142 = 20164\n",
      "144 x 144 = 20736\n",
      "146 x 146 = 21316\n",
      "148 x 148 = 21904\n",
      "150 x 150 = 22500\n",
      "152 x 152 = 23104\n",
      "154 x 154 = 23716\n",
      "156 x 156 = 24336\n",
      "158 x 158 = 24964\n",
      "160 x 160 = 25600\n",
      "162 x 162 = 26244\n",
      "164 x 164 = 26896\n",
      "166 x 166 = 27556\n",
      "168 x 168 = 28224\n",
      "170 x 170 = 28900\n",
      "172 x 172 = 29584\n",
      "174 x 174 = 30276\n",
      "176 x 176 = 30976\n",
      "178 x 178 = 31684\n",
      "180 x 180 = 32400\n",
      "182 x 182 = 33124\n",
      "184 x 184 = 33856\n",
      "186 x 186 = 34596\n",
      "188 x 188 = 35344\n",
      "190 x 190 = 36100\n",
      "192 x 192 = 36864\n",
      "194 x 194 = 37636\n",
      "196 x 196 = 38416\n",
      "198 x 198 = 39204\n",
      "200 x 200 = 40000\n"
     ]
    }
   ],
   "source": [
    "for n in range(100,201,2): # range(inclusive,exclusive,step size), so, n= 100,102,104,........,200\n",
    "    print(n,'x',n,'=',n*n)    #display squares of all even numbers from 100 to 200"
   ]
  },
  {
   "cell_type": "markdown",
   "id": "61fd5677",
   "metadata": {},
   "source": [
    "# similarly, we can print squares of odd numbers as well"
   ]
  },
  {
   "cell_type": "code",
   "execution_count": 14,
   "id": "9da59a08",
   "metadata": {},
   "outputs": [
    {
     "name": "stdout",
     "output_type": "stream",
     "text": [
      "101 x 101 = 10201\n",
      "103 x 103 = 10609\n",
      "105 x 105 = 11025\n",
      "107 x 107 = 11449\n",
      "109 x 109 = 11881\n",
      "111 x 111 = 12321\n",
      "113 x 113 = 12769\n",
      "115 x 115 = 13225\n",
      "117 x 117 = 13689\n",
      "119 x 119 = 14161\n",
      "121 x 121 = 14641\n",
      "123 x 123 = 15129\n",
      "125 x 125 = 15625\n",
      "127 x 127 = 16129\n",
      "129 x 129 = 16641\n",
      "131 x 131 = 17161\n",
      "133 x 133 = 17689\n",
      "135 x 135 = 18225\n",
      "137 x 137 = 18769\n",
      "139 x 139 = 19321\n",
      "141 x 141 = 19881\n",
      "143 x 143 = 20449\n",
      "145 x 145 = 21025\n",
      "147 x 147 = 21609\n",
      "149 x 149 = 22201\n",
      "151 x 151 = 22801\n",
      "153 x 153 = 23409\n",
      "155 x 155 = 24025\n",
      "157 x 157 = 24649\n",
      "159 x 159 = 25281\n",
      "161 x 161 = 25921\n",
      "163 x 163 = 26569\n",
      "165 x 165 = 27225\n",
      "167 x 167 = 27889\n",
      "169 x 169 = 28561\n",
      "171 x 171 = 29241\n",
      "173 x 173 = 29929\n",
      "175 x 175 = 30625\n",
      "177 x 177 = 31329\n",
      "179 x 179 = 32041\n",
      "181 x 181 = 32761\n",
      "183 x 183 = 33489\n",
      "185 x 185 = 34225\n",
      "187 x 187 = 34969\n",
      "189 x 189 = 35721\n",
      "191 x 191 = 36481\n",
      "193 x 193 = 37249\n",
      "195 x 195 = 38025\n",
      "197 x 197 = 38809\n",
      "199 x 199 = 39601\n"
     ]
    }
   ],
   "source": [
    "for n in range(101,201,2): # range(inclusive,exclusive,step size), so, n= 101,103,105,.........,199\n",
    "    print(n,'x',n,'=',n*n)    #display squares of all odd numbers from 100 to 200"
   ]
  },
  {
   "cell_type": "markdown",
   "id": "dad1f946",
   "metadata": {},
   "source": [
    "# Exercise 4: Word counter"
   ]
  },
  {
   "cell_type": "markdown",
   "id": "fd04f1de",
   "metadata": {},
   "source": [
    "write a program to count the number of words in a given text."
   ]
  },
  {
   "cell_type": "markdown",
   "id": "8d55bab6",
   "metadata": {},
   "source": [
    "# Method1: using split function"
   ]
  },
  {
   "cell_type": "markdown",
   "id": "d66022e1",
   "metadata": {},
   "source": [
    "Syntax: len(string_name.split()) #len stands for length. To count no. of words in a string, we use len & split functions together in a code line.   "
   ]
  },
  {
   "cell_type": "code",
   "execution_count": 15,
   "id": "891578aa",
   "metadata": {},
   "outputs": [],
   "source": [
    "input_text = \"This is a sample text\" # this string is given in the question"
   ]
  },
  {
   "cell_type": "code",
   "execution_count": 16,
   "id": "373cf1d5",
   "metadata": {},
   "outputs": [
    {
     "name": "stdout",
     "output_type": "stream",
     "text": [
      "5\n"
     ]
    }
   ],
   "source": [
    "print(len(input_text.split())) #No. of words in a string"
   ]
  },
  {
   "cell_type": "markdown",
   "id": "a6490da0",
   "metadata": {},
   "source": [
    "But, we have to display each word of a string in new line. For this, split function is used to split a sentence into words"
   ]
  },
  {
   "cell_type": "code",
   "execution_count": 17,
   "id": "1d53c459",
   "metadata": {},
   "outputs": [
    {
     "name": "stdout",
     "output_type": "stream",
     "text": [
      "This :1\n",
      "is :1\n",
      "a :1\n",
      "sample :1\n",
      "text :1\n"
     ]
    }
   ],
   "source": [
    "for word in input_text.split():    #split func is used to display each word of a string in new line\n",
    "    print(word, ':', end='')    #display each word with :  (end parameter will help to show number in front of a word)\n",
    "    print(len(word.split()))   # count each word using len and split functions "
   ]
  },
  {
   "cell_type": "markdown",
   "id": "b6b2ad8c",
   "metadata": {},
   "source": [
    "# Method2: using count function"
   ]
  },
  {
   "cell_type": "markdown",
   "id": "8399031d",
   "metadata": {},
   "source": [
    "Syntax: string_name.count(\" \")+1    #count function keep on adding each word one by one "
   ]
  },
  {
   "cell_type": "code",
   "execution_count": 18,
   "id": "98daa279",
   "metadata": {},
   "outputs": [
    {
     "name": "stdout",
     "output_type": "stream",
     "text": [
      "5\n"
     ]
    }
   ],
   "source": [
    "print(input_text.count(\" \")+1)  #No. of words in a string"
   ]
  },
  {
   "cell_type": "markdown",
   "id": "a5d3ef48",
   "metadata": {},
   "source": [
    "But we have to display each word in a new line along with the count number"
   ]
  },
  {
   "cell_type": "code",
   "execution_count": 19,
   "id": "23be5f8a",
   "metadata": {},
   "outputs": [
    {
     "name": "stdout",
     "output_type": "stream",
     "text": [
      "This :1\n",
      "is :1\n",
      "a :1\n",
      "sample :1\n",
      "text :1\n"
     ]
    }
   ],
   "source": [
    "for word in input_text.split():    #split func is used to display each word of a string in new line\n",
    "    print(word, ':', end='')    #display each word with :  (end parameter will help to show number in front of a word)\n",
    "    print(word.count(\" \")+1)  # count each word using count function"
   ]
  },
  {
   "cell_type": "markdown",
   "id": "f7ae6a8b",
   "metadata": {},
   "source": [
    "# Likewise, we can also find no. of characters in the string using len function and for loop"
   ]
  },
  {
   "cell_type": "code",
   "execution_count": 20,
   "id": "71761e69",
   "metadata": {},
   "outputs": [
    {
     "name": "stdout",
     "output_type": "stream",
     "text": [
      "21\n"
     ]
    }
   ],
   "source": [
    "print(len(input_text)) #no. of characters in a string using len func"
   ]
  },
  {
   "cell_type": "code",
   "execution_count": 21,
   "id": "c4d02775",
   "metadata": {},
   "outputs": [
    {
     "name": "stdout",
     "output_type": "stream",
     "text": [
      "no. of characters: 21\n"
     ]
    }
   ],
   "source": [
    "char=0   \n",
    "for i in input_text:      # no. of characters using for loop\n",
    "    char=char+1\n",
    "print(\"no. of characters:\", char)"
   ]
  },
  {
   "cell_type": "markdown",
   "id": "005b7ec2",
   "metadata": {},
   "source": [
    "# Exercise 5: Check for Palindrome"
   ]
  },
  {
   "cell_type": "markdown",
   "id": "8cdf851d",
   "metadata": {},
   "source": [
    "Write a Python function called is_palindrome that takes a string as input and returns True if the string is a palindrome, and False otherwise. "
   ]
  },
  {
   "cell_type": "markdown",
   "id": "993c34bc",
   "metadata": {},
   "source": [
    "A string is said to be a palindrome if the reverse of the string is the same as the string. For example, “radar” is a palindrome, but “radix” is not a palindrome. Let's assume, there is a string denoted by s, then, reverse of this string can be denoted by s[::-1]  "
   ]
  },
  {
   "cell_type": "markdown",
   "id": "398e747b",
   "metadata": {},
   "source": [
    "s[::-1] means everything to everything with step size =-1 which means it will display the entire string in reverse order. Now, if s = s[::-1] it will verify the string is Palindrome and hence return True else return False. Therefore, we can use this logic in our function definition. When return statement will execute in function definition, Interpreter will immediately exit from the definition part and go to the code line where the function is called. "
   ]
  },
  {
   "cell_type": "code",
   "execution_count": 22,
   "id": "2c84c312",
   "metadata": {},
   "outputs": [
    {
     "name": "stdout",
     "output_type": "stream",
     "text": [
      "Input:\"racecar\"\n",
      "Expected Output: True\n"
     ]
    }
   ],
   "source": [
    "def is_palindrome(s): # define function using def keyword and s is passed as a parameter inside this function\n",
    "    if s==s[::-1]:    # original string == reverse string i.e. Palindrome string\n",
    "        return True   #if string is Palindrome, then return True\n",
    "    else:\n",
    "        return False   # if string is not Palindrome, then return False\n",
    "    \n",
    "str_name= str(input(\"Input:\"))  # take user input and save in var. str_name\n",
    "if is_palindrome(str_name):    #function call and hence value of argument str_name will be copied into parameter s \n",
    "    print(\"Expected Output: True\")              # it will execute for return True \n",
    "else:\n",
    "    print(\"Expected Output: False\")             # it will execute for return False "
   ]
  },
  {
   "cell_type": "code",
   "execution_count": null,
   "id": "8cda3e61",
   "metadata": {},
   "outputs": [],
   "source": []
  }
 ],
 "metadata": {
  "kernelspec": {
   "display_name": "Python 3 (ipykernel)",
   "language": "python",
   "name": "python3"
  },
  "language_info": {
   "codemirror_mode": {
    "name": "ipython",
    "version": 3
   },
   "file_extension": ".py",
   "mimetype": "text/x-python",
   "name": "python",
   "nbconvert_exporter": "python",
   "pygments_lexer": "ipython3",
   "version": "3.9.13"
  }
 },
 "nbformat": 4,
 "nbformat_minor": 5
}
